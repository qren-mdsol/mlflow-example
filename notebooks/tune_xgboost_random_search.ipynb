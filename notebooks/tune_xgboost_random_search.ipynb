{
 "cells": [
  {
   "cell_type": "code",
   "execution_count": null,
   "id": "2e8e7aa9",
   "metadata": {
    "title": "Imports"
   },
   "outputs": [],
   "source": [
    "import time\n",
    "import pandas as pd\n",
    "from sklearn.model_selection import train_test_split\n",
    "import xgboost as xgb\n",
    "import yaml\n",
    "import mlflow\n",
    "import os\n",
    "\n",
    "from importlib import reload\n",
    "import utils as u\n",
    "from visualization_helpers import plot_residuals, plot_xgb_feature_importance"
   ]
  },
  {
   "cell_type": "code",
   "execution_count": null,
   "id": "abe3b758",
   "metadata": {
    "title": "Set Experiment Configuration"
   },
   "outputs": [],
   "source": [
    "\n",
    "experiment_id = u.get_or_create_experiment(\"Apples Demand\")\n",
    "mlflow.set_experiment(experiment_id=experiment_id)\n",
    "current_filepath=os.path.dirname(__file__)\n",
    "config_file=os.path.join(current_filepath,\"../config/xgboost_random_search.yaml\")\n",
    "with open(config_file) as f:\n",
    "    xgb_config = yaml.load(f,Loader=yaml.FullLoader)\n",
    "    \n",
    "run_name = xgb_config['run_name']"
   ]
  },
  {
   "cell_type": "code",
   "execution_count": null,
   "id": "55f8ab1b",
   "metadata": {
    "lines_to_next_cell": 0,
    "title": "Preprocess Data"
   },
   "outputs": [],
   "source": [
    "df=pd.read_csv(os.path.join(current_filepath,\"../data/apple-sales.csv\"))\n",
    "\n",
    "X = df.drop(columns=[\"date\", \"demand\"])\n",
    "y = df[\"demand\"]\n",
    "train_x, valid_x, train_y, valid_y = train_test_split(X, y, test_size=0.25)\n",
    "dtrain = xgb.DMatrix(train_x, label=train_y)\n",
    "dvalid = xgb.DMatrix(valid_x, label=valid_y)"
   ]
  },
  {
   "cell_type": "code",
   "execution_count": null,
   "id": "ff6795c6",
   "metadata": {
    "title": "MLFlow"
   },
   "outputs": [],
   "source": [
    "\n",
    "param_grid=u.expand_grid(**xgb_config['search_grid'])\n",
    "param_grid_sampled:pd.DataFrame=param_grid.sample(xgb_config['nsample'])    \n",
    "\n",
    "# Prevent flooding MLflow with duplicate run names upon re-execution of the code\n",
    "u.clear_run(experiment_id,run_name)\n",
    "with mlflow.start_run(experiment_id=experiment_id,run_name=run_name):\n",
    "    # optimize on rmse\n",
    "    rmse_results=[]\n",
    "    \n",
    "    for row_index, row in param_grid_sampled.iterrows():\n",
    "        params=row.to_dict()\n",
    "        # make the run_name show the parameter (EX max_depth_3_eta_.01_lambda_.001)\n",
    "        child_run_name=u.convert_params_to_string(params)\n",
    "        params['max_depth']=int(params['max_depth']) #dictionary conversion coerces to float\n",
    "        params['objective']=xgb_config['objective']\n",
    "        params['eval_metric']=xgb_config['eval_metric']\n",
    "            \n",
    "        # innitiate the child run, INSIDE the for loop of the params\n",
    "        with mlflow.start_run(run_name=child_run_name,nested=True): \n",
    "            # Train XGBoost model\n",
    "            train_start=time.time()\n",
    "            bst = xgb.train(params, dtrain)\n",
    "            train_finish=time.time()\n",
    "            train_time_seconds=train_finish - train_start\n",
    "            \n",
    "            preds = bst.predict(dvalid)\n",
    "            eval_metrics=u.evaluate_regression_metrics(valid_y, preds)\n",
    "            rmse_results.append(eval_metrics['rmse'])\n",
    "            \n",
    "            # Log to MLflow\n",
    "            mlflow.log_params(params)\n",
    "            mlflow.log_metrics(eval_metrics)\n",
    "            mlflow.log_metric(\"train_time_seconds\", train_time_seconds)\n",
    "    \n",
    "    # Retrain best model using rmse and visualize results\n",
    "    param_grid_sampled['rmse']=rmse_results\n",
    "    indx_min = param_grid_sampled['rmse'].idxmin()\n",
    "    best_rmse=param_grid_sampled['rmse'].loc[indx_min]\n",
    "    best_params=param_grid_sampled.\\\n",
    "        drop(columns=['rmse']).\\\n",
    "        loc[indx_min].\\\n",
    "        to_dict()\n",
    "    \n",
    "    mlflow.log_params(best_params)\n",
    "    mlflow.log_metric(\"best_rmse\", best_rmse)\n",
    "    \n",
    "    # Log tags to more easily search experiments\n",
    "    mlflow.set_tags(\n",
    "        tags={\n",
    "            \"project\": \"Apple Demand Project\",\n",
    "            \"optimizer_engine\": \"random search\",\n",
    "            \"model_family\": \"xgboost\",\n",
    "            \"feature_set_version\": 1,\n",
    "        }\n",
    "    )\n",
    "    \n",
    "    # Log a fit model instance\n",
    "    model = xgb.train(best_params, dtrain)\n",
    "    # Log Metrics\n",
    "    preds=model.predict(dvalid)\n",
    "    eval_metrics=u.evaluate_regression_metrics(actual=valid_y,pred=preds)\n",
    "    mlflow.log_metrics(eval_metrics)\n",
    "\n",
    "    # Log the feature importances plot\n",
    "    importances = plot_xgb_feature_importance(model, booster=best_params['booster'])\n",
    "    mlflow.log_figure(figure=importances, artifact_file=\"feature_importances.png\")\n",
    "\n",
    "    # Log the residuals plot\n",
    "    residuals = plot_residuals(valid_y,preds)\n",
    "    mlflow.log_figure(figure=residuals, artifact_file=\"residuals.png\")\n",
    "    \n",
    "    # artifact path helps access the model object outside\n",
    "    artifact_path = \"xgb_random_search_model\"\n",
    "    mlflow.xgboost.log_model(\n",
    "        xgb_model=model,\n",
    "        artifact_path=artifact_path,\n",
    "        input_example=train_x.iloc[[0]],\n",
    "        model_format=\"ubj\",\n",
    "        metadata={\"model_data_version\": 1},\n",
    "    )\n",
    "    \n",
    "    mlflow.end_run()"
   ]
  }
 ],
 "metadata": {
  "jupytext": {
   "cell_metadata_filter": "title,-all",
   "main_language": "python",
   "notebook_metadata_filter": "-all"
  }
 },
 "nbformat": 4,
 "nbformat_minor": 5
}
